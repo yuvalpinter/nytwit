{
 "cells": [
  {
   "cell_type": "code",
   "execution_count": 1,
   "metadata": {},
   "outputs": [],
   "source": [
    "%%capture\n",
    "import nltk\n",
    "import pandas as pd\n",
    "import numpy as np\n",
    "import matplotlib.pyplot as plt\n",
    "!pip install seaborn"
   ]
  },
  {
   "cell_type": "code",
   "execution_count": 2,
   "metadata": {},
   "outputs": [],
   "source": [
    "import seaborn as sns\n",
    "raw_df = pd.DataFrame(pd.read_csv(\"../../nytwit_v2.csv\"))"
   ]
  },
  {
   "cell_type": "markdown",
   "metadata": {},
   "source": [
    "# Load, Inspect, and Clean DataFrame"
   ]
  },
  {
   "cell_type": "code",
   "execution_count": 3,
   "metadata": {},
   "outputs": [
    {
     "data": {
      "text/html": [
       "<div>\n",
       "<style scoped>\n",
       "    .dataframe tbody tr th:only-of-type {\n",
       "        vertical-align: middle;\n",
       "    }\n",
       "\n",
       "    .dataframe tbody tr th {\n",
       "        vertical-align: top;\n",
       "    }\n",
       "\n",
       "    .dataframe thead th {\n",
       "        text-align: right;\n",
       "    }\n",
       "</style>\n",
       "<table border=\"1\" class=\"dataframe\">\n",
       "  <thead>\n",
       "    <tr style=\"text-align: right;\">\n",
       "      <th></th>\n",
       "      <th>Time</th>\n",
       "      <th>Word</th>\n",
       "      <th>Category</th>\n",
       "      <th>URL</th>\n",
       "      <th>Sentence Example</th>\n",
       "    </tr>\n",
       "  </thead>\n",
       "  <tbody>\n",
       "    <tr>\n",
       "      <th>0</th>\n",
       "      <td>Tue Nov 07 19:12:11 2017</td>\n",
       "      <td>ujigami</td>\n",
       "      <td>filtered</td>\n",
       "      <td>https://www.nytimes.com/2017/11/07/travel/shri...</td>\n",
       "      <td>As Hirota put it, carrying the shrine would “s...</td>\n",
       "    </tr>\n",
       "    <tr>\n",
       "      <th>1</th>\n",
       "      <td>Tue Nov 07 19:12:15 2017</td>\n",
       "      <td>ganbarro</td>\n",
       "      <td>filtered</td>\n",
       "      <td>https://www.nytimes.com/2017/11/07/travel/shri...</td>\n",
       "      <td>Hirota listened to my excuses, from lingering ...</td>\n",
       "    </tr>\n",
       "    <tr>\n",
       "      <th>2</th>\n",
       "      <td>Tue Nov 07 19:12:25 2017</td>\n",
       "      <td>yamahoko</td>\n",
       "      <td>filtered</td>\n",
       "      <td>https://www.nytimes.com/2017/11/07/travel/shri...</td>\n",
       "      <td>It spans the entire month of July and features...</td>\n",
       "    </tr>\n",
       "    <tr>\n",
       "      <th>3</th>\n",
       "      <td>Wed Nov 08 10:01:04 2017</td>\n",
       "      <td>rememed</td>\n",
       "      <td>affix</td>\n",
       "      <td>https://www.nytimes.com/2017/11/08/opinion/ang...</td>\n",
       "      <td>Thurman’s rage is palpable yet contained, conv...</td>\n",
       "    </tr>\n",
       "    <tr>\n",
       "      <th>4</th>\n",
       "      <td>Wed Nov 08 11:01:14 2017</td>\n",
       "      <td>pinyon</td>\n",
       "      <td>filtered</td>\n",
       "      <td>https://www.nytimes.com/2017/11/08/sports/nava...</td>\n",
       "      <td>Cedar and pinyon logs had burned to embers in ...</td>\n",
       "    </tr>\n",
       "    <tr>\n",
       "      <th>5</th>\n",
       "      <td>Wed Nov 08 11:01:42 2017</td>\n",
       "      <td>underdramatic</td>\n",
       "      <td>affix</td>\n",
       "      <td>https://www.nytimes.com/2017/11/08/books/revie...</td>\n",
       "      <td>The tale of Johnny, his chicken, a cast of sub...</td>\n",
       "    </tr>\n",
       "    <tr>\n",
       "      <th>6</th>\n",
       "      <td>Wed Nov 08 11:02:00 2017</td>\n",
       "      <td>hyperhysteria</td>\n",
       "      <td>affix</td>\n",
       "      <td>https://www.nytimes.com/2017/11/08/books/revie...</td>\n",
       "      <td>But the stately unfolding of Twain’s adapted o...</td>\n",
       "    </tr>\n",
       "    <tr>\n",
       "      <th>7</th>\n",
       "      <td>Wed Nov 08 13:01:19 2017</td>\n",
       "      <td>verbolect</td>\n",
       "      <td>filtered</td>\n",
       "      <td>https://www.nytimes.com/2017/11/08/arts/design...</td>\n",
       "      <td>Now a collective called NonCoreProjector, whic...</td>\n",
       "    </tr>\n",
       "    <tr>\n",
       "      <th>8</th>\n",
       "      <td>Wed Nov 08 23:01:13 2017</td>\n",
       "      <td>fluffypoos</td>\n",
       "      <td>blend</td>\n",
       "      <td>https://www.nytimes.com/2017/11/08/nyregion/wh...</td>\n",
       "      <td>Lemon’s refusal to join the off-leash circus s...</td>\n",
       "    </tr>\n",
       "    <tr>\n",
       "      <th>9</th>\n",
       "      <td>Wed Nov 08 23:01:15 2017</td>\n",
       "      <td>shaggydoodles</td>\n",
       "      <td>compound new</td>\n",
       "      <td>https://www.nytimes.com/2017/11/08/nyregion/wh...</td>\n",
       "      <td>Lemon’s refusal to join the off-leash circus s...</td>\n",
       "    </tr>\n",
       "  </tbody>\n",
       "</table>\n",
       "</div>"
      ],
      "text/plain": [
       "                       Time           Word      Category  \\\n",
       "0  Tue Nov 07 19:12:11 2017        ujigami      filtered   \n",
       "1  Tue Nov 07 19:12:15 2017       ganbarro      filtered   \n",
       "2  Tue Nov 07 19:12:25 2017       yamahoko      filtered   \n",
       "3  Wed Nov 08 10:01:04 2017        rememed         affix   \n",
       "4  Wed Nov 08 11:01:14 2017         pinyon      filtered   \n",
       "5  Wed Nov 08 11:01:42 2017  underdramatic         affix   \n",
       "6  Wed Nov 08 11:02:00 2017  hyperhysteria         affix   \n",
       "7  Wed Nov 08 13:01:19 2017      verbolect      filtered   \n",
       "8  Wed Nov 08 23:01:13 2017     fluffypoos         blend   \n",
       "9  Wed Nov 08 23:01:15 2017  shaggydoodles  compound new   \n",
       "\n",
       "                                                 URL  \\\n",
       "0  https://www.nytimes.com/2017/11/07/travel/shri...   \n",
       "1  https://www.nytimes.com/2017/11/07/travel/shri...   \n",
       "2  https://www.nytimes.com/2017/11/07/travel/shri...   \n",
       "3  https://www.nytimes.com/2017/11/08/opinion/ang...   \n",
       "4  https://www.nytimes.com/2017/11/08/sports/nava...   \n",
       "5  https://www.nytimes.com/2017/11/08/books/revie...   \n",
       "6  https://www.nytimes.com/2017/11/08/books/revie...   \n",
       "7  https://www.nytimes.com/2017/11/08/arts/design...   \n",
       "8  https://www.nytimes.com/2017/11/08/nyregion/wh...   \n",
       "9  https://www.nytimes.com/2017/11/08/nyregion/wh...   \n",
       "\n",
       "                                    Sentence Example  \n",
       "0  As Hirota put it, carrying the shrine would “s...  \n",
       "1  Hirota listened to my excuses, from lingering ...  \n",
       "2  It spans the entire month of July and features...  \n",
       "3  Thurman’s rage is palpable yet contained, conv...  \n",
       "4  Cedar and pinyon logs had burned to embers in ...  \n",
       "5  The tale of Johnny, his chicken, a cast of sub...  \n",
       "6  But the stately unfolding of Twain’s adapted o...  \n",
       "7  Now a collective called NonCoreProjector, whic...  \n",
       "8  Lemon’s refusal to join the off-leash circus s...  \n",
       "9  Lemon’s refusal to join the off-leash circus s...  "
      ]
     },
     "execution_count": 3,
     "metadata": {},
     "output_type": "execute_result"
    }
   ],
   "source": [
    "raw_df.head(10)"
   ]
  },
  {
   "cell_type": "code",
   "execution_count": 4,
   "metadata": {},
   "outputs": [
    {
     "data": {
      "text/plain": [
       "Index(['Time', 'Word', 'Category', 'URL', 'Sentence_Example'], dtype='object')"
      ]
     },
     "execution_count": 4,
     "metadata": {},
     "output_type": "execute_result"
    }
   ],
   "source": [
    "raw_df.columns = raw_df.columns.str.replace(' ', '_')\n",
    "raw_df.columns"
   ]
  },
  {
   "cell_type": "markdown",
   "metadata": {},
   "source": [
    "# View rows with existing (False) sentence examples"
   ]
  },
  {
   "cell_type": "code",
   "execution_count": 5,
   "metadata": {},
   "outputs": [
    {
     "data": {
      "text/plain": [
       "0       False\n",
       "1       False\n",
       "2       False\n",
       "3       False\n",
       "4       False\n",
       "        ...  \n",
       "2582    False\n",
       "2583    False\n",
       "2584    False\n",
       "2585    False\n",
       "2586    False\n",
       "Name: Sentence_Example, Length: 2587, dtype: bool"
      ]
     },
     "execution_count": 5,
     "metadata": {},
     "output_type": "execute_result"
    }
   ],
   "source": [
    "pd.isna(raw_df.Sentence_Example)"
   ]
  },
  {
   "cell_type": "code",
   "execution_count": 6,
   "metadata": {},
   "outputs": [],
   "source": [
    "sentence_example_exists = [word for word in pd.isna(raw_df.Sentence_Example)]\n",
    "\n",
    "sentence_exists_tuple = [(i, boolVal) for i, boolVal in enumerate(sentence_example_exists) if boolVal is True]\n",
    "true_indeces = [int(i[0]) for i in sentence_exists_tuple]"
   ]
  },
  {
   "cell_type": "markdown",
   "metadata": {},
   "source": [
    "# Inspect NA's"
   ]
  },
  {
   "cell_type": "code",
   "execution_count": 7,
   "metadata": {
    "scrolled": true
   },
   "outputs": [
    {
     "data": {
      "text/plain": [
       "filtered         164\n",
       "domain             8\n",
       "blend              6\n",
       "affix              5\n",
       "onomatopoeia       4\n",
       "compound comp      4\n",
       "deriv              4\n",
       "infl               3\n",
       "lengthening        2\n",
       "dialect            1\n",
       "infix              1\n",
       "compound new       1\n",
       "Name: Category, dtype: int64"
      ]
     },
     "execution_count": 7,
     "metadata": {},
     "output_type": "execute_result"
    }
   ],
   "source": [
    "no_sentence_example_df = pd.DataFrame(raw_df.loc[true_indeces])\n",
    "no_sentence_example_df.Category.value_counts()"
   ]
  },
  {
   "cell_type": "markdown",
   "metadata": {},
   "source": [
    "# Remove NA's"
   ]
  },
  {
   "cell_type": "code",
   "execution_count": 79,
   "metadata": {},
   "outputs": [],
   "source": [
    "df = raw_df.dropna()"
   ]
  },
  {
   "cell_type": "markdown",
   "metadata": {},
   "source": [
    "# Calculate length of sentences in Sentence Example"
   ]
  },
  {
   "cell_type": "code",
   "execution_count": 117,
   "metadata": {},
   "outputs": [
    {
     "data": {
      "text/plain": [
       "[[]]"
      ]
     },
     "execution_count": 117,
     "metadata": {},
     "output_type": "execute_result"
    },
    {
     "data": {
      "image/png": "[encoded data removed]",
      "text/plain": [
       "<Figure size 720x504 with 4 Axes>"
      ]
     },
     "metadata": {
      "needs_background": "light"
     },
     "output_type": "display_data"
    }
   ],
   "source": [
    "sentence_lengths_all = [len(str(sent)) for sent in raw_df.Sentence_Example]\n",
    "\n",
    "max_min_difference = abs(np.min(sentence_lengths_all) - np.max(sentence_lengths_all))\n",
    "max = np.max(sentence_lengths)\n",
    "min = np.min(sentence_lengths)\n",
    "q1 = np.quantile(a = sentence_lengths, q = .25)\n",
    "q2 = np.quantile(a = sentence_lengths, q = .5)\n",
    "q3 = np.quantile(a = sentence_lengths, q = .75)\n",
    "q4 = np.quantile(a = sentence_lengths, q = 1.0)\n",
    "iqr = q3 - q1\n",
    "max_non_outlier = q3 + 1.5*iqr\n",
    "min_non_outlier = q1 - 1.5*iqr\n",
    "\n",
    "outlier_sentence_lengths = [length for length in sentence_lengths if length > max_non_outlier]\n",
    "remove_extremities = [val for val in sentence_lengths if val < 1750]\n",
    "\n",
    "# set up figure\n",
    "fig, [[ax1, ax2], [ax3, ax4]] = plt.subplots(2, 2)\n",
    "fig.set_figheight(7)\n",
    "fig.set_figwidth(10)\n",
    "plt.subplots_adjust(wspace = .25, hspace=.25)\n",
    "\n",
    "#subplot 0,0\n",
    "ax1.title.set_text(\"Boxplot With Outliers\")\n",
    "ax1.set_xlabel(\"Sentences\")\n",
    "ax1.set_ylabel(\"Sentence Length\")\n",
    "plot1 = sns.boxplot(data = sentence_lengths, color=sns.set_palette(\"Dark2\"), ax=ax1)\n",
    "plot1.set(xticklabels=[])\n",
    "\n",
    "\n",
    "#subplot 0,1\n",
    "ax2.title.set_text(\"Boxplot Without 'Extreme' Outliers\")\n",
    "ax2.set_xlabel(\"Sentences\")\n",
    "ax2.set_ylabel(\"Sentence Length\")\n",
    "plot2 =sns.boxplot(data = remove_extremities, ax=ax2) \n",
    "plot2.set(xticklabels=[])\n",
    "\n",
    "#subplot 1, 0\n",
    "ax3.title.set_text(\"Boxplot without Outliers\")\n",
    "ax3.set_xlabel(\"Sentences\")\n",
    "ax3.set_ylabel(\"Sentence Length\")\n",
    "plot3 = sns.boxplot(data = [length for length in sentence_lengths_all if ((length>= min_non_outlier) & (length <= max_non_outlier))], ax = ax3)\n",
    "plot3.set(xticklabels=[])\n",
    "\n",
    "#subplot 1, 1\n",
    "ax4.title.set_text(\"Boxplot w/ Subsample b/w Q1 and Q3\")\n",
    "ax4.set_xlabel(\"Sentences\")\n",
    "ax4.set_ylabel(\"Sentence Length\")\n",
    "plot4 = sns.boxplot(data = [length for length in sentence_lengths_all if ((length>=q1) & (length <= q3))], ax = ax4)\n",
    "plot4.set(xticklabels=[])"
   ]
  },
  {
   "cell_type": "markdown",
   "metadata": {},
   "source": [
    "# Empirical CDF to show us what % of the data lies below a certail sentence length "
   ]
  },
  {
   "cell_type": "code",
   "execution_count": 111,
   "metadata": {},
   "outputs": [
    {
     "data": {
      "text/plain": [
       "Text(0, 0.5, '% of Data Points')"
      ]
     },
     "execution_count": 111,
     "metadata": {},
     "output_type": "execute_result"
    },
    {
     "data": {
      "image/png": "[encoded data removed]",
      "text/plain": [
       "<Figure size 432x288 with 1 Axes>"
      ]
     },
     "metadata": {
      "needs_background": "light"
     },
     "output_type": "display_data"
    }
   ],
   "source": [
    "plt.plot(np.sort(sentence_lengths), np.linspace(0, 1, len(sentence_lengths)))\n",
    "plt.fill_between(np.sort(sentence_lengths), np.linspace(0, 1, len(sentence_lengths)), facecolor='lightgray')\n",
    "plt.xlabel(\"Sentence Length\")\n",
    "plt.ylabel(\"% of Data Points\")"
   ]
  },
  {
   "cell_type": "code",
   "execution_count": 112,
   "metadata": {},
   "outputs": [],
   "source": [
    "%%capture\n",
    "tokenize_sentences = [nltk.word_tokenize(str(sent)) for sent in df.Sentence_Example]"
   ]
  },
  {
   "cell_type": "markdown",
   "metadata": {},
   "source": [
    "# Term Frequency"
   ]
  },
  {
   "cell_type": "markdown",
   "metadata": {},
   "source": [
    "### Let's measure the frequency of our target words (Word column) in each Sentence Example (Sentence_Example column)"
   ]
  },
  {
   "cell_type": "markdown",
   "metadata": {},
   "source": [
    "$$tf(t, d) = \\frac{count\\space of\\space t\\space in\\space d}{number\\space of\\space words\\space in\\space d}$$"
   ]
  },
  {
   "cell_type": "markdown",
   "metadata": {},
   "source": [
    "### Example for First Word"
   ]
  },
  {
   "cell_type": "code",
   "execution_count": 113,
   "metadata": {},
   "outputs": [
    {
     "data": {
      "text/html": [
       "<div>\n",
       "<style scoped>\n",
       "    .dataframe tbody tr th:only-of-type {\n",
       "        vertical-align: middle;\n",
       "    }\n",
       "\n",
       "    .dataframe tbody tr th {\n",
       "        vertical-align: top;\n",
       "    }\n",
       "\n",
       "    .dataframe thead th {\n",
       "        text-align: right;\n",
       "    }\n",
       "</style>\n",
       "<table border=\"1\" class=\"dataframe\">\n",
       "  <thead>\n",
       "    <tr style=\"text-align: right;\">\n",
       "      <th></th>\n",
       "      <th>Time</th>\n",
       "      <th>Word</th>\n",
       "      <th>Category</th>\n",
       "      <th>URL</th>\n",
       "      <th>Sentence_Example</th>\n",
       "    </tr>\n",
       "  </thead>\n",
       "  <tbody>\n",
       "    <tr>\n",
       "      <th>0</th>\n",
       "      <td>Tue Nov 07 19:12:11 2017</td>\n",
       "      <td>ujigami</td>\n",
       "      <td>filtered</td>\n",
       "      <td>https://www.nytimes.com/2017/11/07/travel/shri...</td>\n",
       "      <td>As Hirota put it, carrying the shrine would “s...</td>\n",
       "    </tr>\n",
       "  </tbody>\n",
       "</table>\n",
       "</div>"
      ],
      "text/plain": [
       "                       Time     Word  Category  \\\n",
       "0  Tue Nov 07 19:12:11 2017  ujigami  filtered   \n",
       "\n",
       "                                                 URL  \\\n",
       "0  https://www.nytimes.com/2017/11/07/travel/shri...   \n",
       "\n",
       "                                    Sentence_Example  \n",
       "0  As Hirota put it, carrying the shrine would “s...  "
      ]
     },
     "execution_count": 113,
     "metadata": {},
     "output_type": "execute_result"
    }
   ],
   "source": [
    "raw_df.head(1)"
   ]
  },
  {
   "cell_type": "markdown",
   "metadata": {},
   "source": [
    "$$tf(ujigami, \"As\\space Hirota\\space put\\space it...\") = \\frac{count\\space of\\space ujigami\\space in\\space \"As\\space Hirota\\space put\\space it...\"}{number\\space of\\space words\\space in\\space \" As\\space Hirota\\space put\\space it...\"}$$\n",
    "\n"
   ]
  },
  {
   "cell_type": "code",
   "execution_count": 85,
   "metadata": {},
   "outputs": [
    {
     "data": {
      "text/plain": [
       "0.025510204081632654"
      ]
     },
     "execution_count": 85,
     "metadata": {},
     "output_type": "execute_result"
    }
   ],
   "source": [
    "def tf(t, d):\n",
    "    count = 0\n",
    "    tokenized_d = nltk.word_tokenize(d)\n",
    "    for word in tokenized_d:\n",
    "        if str(word) == str(t):\n",
    "            count += 1\n",
    "    return count/len(tokenized_d)\n",
    "\n",
    "tf('ujigami', \"As Hirota put it, carrying the shrine would “show off our manpower” and prove to the unseen spirit inside, known as an ujigami, that the people in the small town of Miyoshi in Chiba prefecture were strong enough to take care of their community for yet another year.“How much does it weigh?”“You’re about to find out.”Hirota helped me into my robe, tying all the knots for me, instead of guiding me through.Unlike ours, their ujigami was ensconced in a large, wheeled float that was covered in paper lanterns and pulled by its bearers via two enormous dockyard ropes.Also unlike ours, their procession was musical.An ujigami is a Shinto deity and therefore has no name, no features, no disposition, but it can retain a certain characteristic.Whereas our ujigami liked to be jostled and bobbed like an upside down pendulum, this one liked music.)—scenting the air with licorice—and every summer night bush-league yakuza rattle past your windows, gunning motorcycle engines.There’s a delicate balance to it all that is held together by a community willing to bend and band together.But what happens to a place when its people are no longer strong enough to take care of their community another year?I watched the procession disappear back into its neighborhood for the last time, where the drumbeats faded to a murmur: the sound of an ujigami retiring.“Even if I drink sake, my spirit doesn’t get drunk, until the matsuri is over,” our kiyari-shu sang.\")\n",
    "tf('glypticians', \"But, when asked, “Who was the glyptician?” Mr. Hemmerle, like many others in the business, answered, “I cannot reveal my sources.”Few glypticians are known to the public; most work behind the scenes, hired by houses when their particular skills are needed.The houses will not identify them, worried about the lure of rivals, and over generations the glypticians themselves have become distinctly reticent.Florian said glypticians like Gerd Dreher or Manfred Wild had made their names by crafting animal sculptures, usually private orders.These masters are able to obtain the best raw materials and command prices that, she said, can rise to as much as three times the value of the stones they use.In addition to the Idar-Oberstein area, glypticians also can be found in other regions rich in stone or gems that can be carved.Like many glypticians, Mr. Chan makes his own tools: “I even have sometimes to build the machines first in order to build my own tools.”The glyptician’s approach to work provides another key to understanding the skill.\")\n"
   ]
  },
  {
   "cell_type": "code",
   "execution_count": 118,
   "metadata": {},
   "outputs": [],
   "source": [
    "%%capture\n",
    "def dictFromColumns(data, col1, col2):\n",
    "    contentsCol1 = [val for val in data[col1].values]\n",
    "    contentsCol2 = [val for val in data[col2].values]\n",
    "    dictionaryOfColumns = dict(zip(contentsCol1, contentsCol2))\n",
    "    return dictionaryOfColumns\n",
    "\n",
    "dictFromColumns(df, 'Word', 'Sentence_Example')"
   ]
  },
  {
   "cell_type": "markdown",
   "metadata": {},
   "source": [
    "# To Do: \n",
    "\n",
    "### 1. Create a sublist of the lengths ranging from Q1 to Q3\n",
    "### 2. Map those words between Q1-Q3 together with their corresponding sentence example\n",
    "### 3. Calculate the TF-IDF for those words using the tf function."
   ]
  },
  {
   "cell_type": "code",
   "execution_count": null,
   "metadata": {},
   "outputs": [],
   "source": []
  }
 ],
 "metadata": {
  "kernelspec": {
   "display_name": "Python 3",
   "language": "python",
   "name": "python3"
  },
  "language_info": {
   "codemirror_mode": {
    "name": "ipython",
    "version": 3
   },
   "file_extension": ".py",
   "mimetype": "text/x-python",
   "name": "python",
   "nbconvert_exporter": "python",
   "pygments_lexer": "ipython3",
   "version": "3.7.7"
  }
 },
 "nbformat": 4,
 "nbformat_minor": 4
}
