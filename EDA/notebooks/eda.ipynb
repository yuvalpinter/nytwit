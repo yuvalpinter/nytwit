{
 "cells": [
  {
   "cell_type": "code",
   "execution_count": 79,
   "metadata": {},
   "outputs": [
    {
     "output_type": "stream",
     "name": "stdout",
     "text": "Successfully imported packages\n"
    }
   ],
   "source": [
    "import pandas as pd\n",
    "import matplotlib\n",
    "import matplotlib.pyplot as plt\n",
    "from itertools import cycle\n",
    "import re\n",
    "import nltk\n",
    "from datetime import datetime as d\n",
    "import time\n",
    "import numpy as np\n",
    "from matplotlib.pyplot import Figure\n",
    "import plotly.express as pl\n",
    "print(\"Successfully imported packages\")"
   ]
  },
  {
   "cell_type": "code",
   "execution_count": 75,
   "metadata": {},
   "outputs": [
    {
     "output_type": "stream",
     "name": "stdout",
     "text": "Time\n0  Tue Nov 07 19:12:11 2017\n1  Tue Nov 07 19:12:15 2017\n2  Tue Nov 07 19:12:25 2017\n3  Wed Nov 08 10:01:04 2017\n4  Wed Nov 08 11:01:14 2017\n        Word\n0    ujigami\n1   ganbarro\n2   yamahoko\n3    rememed\n4  andpinyon\n   Category\n0  filtered\n1  filtered\n2  filtered\n3     affix\n4  filtered\n                                                 URL\n0  https://www.nytimes.com/2017/11/07/travel/shri...\n1  https://www.nytimes.com/2017/11/07/travel/shri...\n2  https://www.nytimes.com/2017/11/07/travel/shri...\n3  https://www.nytimes.com/2017/11/08/opinion/ang...\n4  https://www.nytimes.com/2017/11/08/sports/nava...\n"
    }
   ],
   "source": [
    "# Load Data\n",
    "data = pd.read_csv(\"../nytwit_v1.tsv\", sep= \"\\t\", header=0)\n",
    "df= pd.DataFrame(data)\n",
    "\n",
    "# View Data\n",
    "def viewCols(data):\n",
    "    \"\"\"\n",
    "    loop through columns in dataframe, view the first 5 rows\n",
    "    @params data, a dataframe\n",
    "    @returns the first 5 rows in the dataframe for each column\n",
    "    \"\"\"\n",
    "    for col in data:\n",
    "         print((data[[col]].head(5)))\n",
    "viewCols(df)"
   ]
  },
  {
   "cell_type": "code",
   "execution_count": 89,
   "metadata": {},
   "outputs": [
    {
     "output_type": "stream",
     "name": "stdout",
     "text": "Testing retrieveUniqueVals Function \n\n{'Category'}\n-------------------------------------------------------------------------------------------------------------------- \n\nTesting countVals Function \n\nfiltered         1034\naffix             475\ndomain            260\nderiv             211\nblend             183\ncompound comp     123\ncompound new       54\nlengthening        53\ninfl               51\ndialect            46\nonomatopoeia       23\nvariant            16\naffix libfix       15\narchaic            13\ninnovation         11\nphonaestheme        6\nsynth               6\nspaces sic          5\ninfix               2\nName: Category, dtype: int64\n-------------------------------------------------------------------------------------------------------------------- \n\nTesting mapVals Function \n\n{'compound new': 1034, 'synth': 475, 'onomatopoeia': 260, 'innovation': 211, 'dialect': 183, 'affix': 123, 'lengthening': 54, 'filtered': 53, 'infl': 51, 'phonaestheme': 46, 'spaces sic': 23, 'deriv': 16, 'domain': 15, 'infix': 13, 'compound comp': 11, 'archaic': 6, 'variant': 6, 'blend': 5, 'affix libfix': 2}\n-------------------------------------------------------------------------------------------------------------------- \n\n"
    }
   ],
   "source": [
    "\"\"\"\n",
    "1. Getting to know the dataset\n",
    "\n",
    "\"\"\"\n",
    "def retrieveUniqueVals(data):\n",
    "    \"\"\"\n",
    "    Find the unique values in df[[\"Category \"]] and append them to an array, uniqueArr\n",
    "    @params data, a subcolumn of a dataframe (followed by .iterrows()). I.E. data[['subcolumn']].iterrows()\n",
    "    @returns list of unique values for the given column\n",
    "    \"\"\"\n",
    "    return set(data)\n",
    "print(\"Testing retrieveUniqueVals Function \\n\")\n",
    "print(retrieveUniqueVals(df[['Category']]))\n",
    "print('-------------------------------------------------------------------------------------------------------------------- \\n')\n",
    "\n",
    "def countVals():\n",
    "    \"\"\"\n",
    "    Find the frequency of each unique value in the defined category\n",
    "    @params none\n",
    "    @returns the relative sum for each value in a column. Below, this function is pre-programmed to perform the actions to the \"Category \" column (Notice the space after Category).\n",
    "     Can also be changed to df[[\"Time\"]] for the given dataframe.\n",
    "    \"\"\"\n",
    "    return pd.value_counts(df.Category)\n",
    "\n",
    "print(\"Testing countVals Function \\n\")\n",
    "print(countVals())\n",
    "print('-------------------------------------------------------------------------------------------------------------------- \\n')\n",
    "\n",
    "def mapVals(list1, list2):\n",
    "    \"\"\"\n",
    "    zip two lists of equal length together\n",
    "    @params two lists, list1 and list2, which should be equal sizes\n",
    "    @returns a dictionary of two lists mapped together with each value at the same index in list1 and list2 being mapped to each other. \n",
    "    \"\"\"\n",
    "    try:\n",
    "        return dict(zip(list1,list2))\n",
    "    except IndexError:\n",
    "        print(\"IndexError exception... lists should be same size!\")\n",
    "\n",
    "print(\"Testing mapVals Function \\n\")\n",
    "print(mapVals(retrieveUniqueVals(df.Category), countVals()))\n",
    "print('-------------------------------------------------------------------------------------------------------------------- \\n')"
   ]
  },
  {
   "cell_type": "code",
   "execution_count": 90,
   "metadata": {},
   "outputs": [
    {
     "output_type": "stream",
     "name": "stdout",
     "text": "Testing linkTypesCount Function\n2587\n-------------------------------------------------------------------------------------------------------------------- \n\n\nTesting classifyLinks Function\n2587\n-------------------------------------------------------------------------------------------------------------------- \n\n\nTesting if number of links is same in both function results\n2587\n2587\ntrue\n-------------------------------------------------------------------------------------------------------------------- \n\n\n"
    }
   ],
   "source": [
    "\"\"\"\n",
    "2. Lets do something similar with the URL column now.... \n",
    "\"\"\"\n",
    "link_df = df[[\"URL\", \"Word\"]]\n",
    "# for url in link_df.iterrows(): # loop through urls, determine if there are http and https\n",
    "#      print(url[-1][0][:5])\n",
    "\n",
    "def linkTypesCount(data):\n",
    "    \"\"\"\n",
    "    A function that returns the total count of https, http, and other ('not found') links\n",
    "    @params a dataframe, data, which is used to iterate through and determine which links are http and https. Can be applied to columns containing urls\n",
    "    @returns the total sum of http, https, and other links\n",
    "    \"\"\"\n",
    "    http_count = 0\n",
    "    https_count = 0\n",
    "    other = 0\n",
    "    for url in data.iterrows():\n",
    "        if url[-1][0][:5] == 'http:':\n",
    "            http_count += 1\n",
    "        elif url[-1][0][:5] == 'https':\n",
    "            https_count += 1\n",
    "        else:\n",
    "            other += 1\n",
    "    print(http_count + https_count + other)\n",
    "\n",
    "print(\"Testing linkTypesCount Function\")\n",
    "linkTypesCount(df[[\"URL\"]])\n",
    "print('-------------------------------------------------------------------------------------------------------------------- \\n\\n')\n",
    "\n",
    "\n",
    "def classifyLinks(data):\n",
    "    \"\"\"\n",
    "    a function that splits links into https and http lists. Additionally,\n",
    "    this function creates a list for urls that appear more than once in the dataframe\n",
    "    @params a dataframe, data, which we iterate through and classify the urls within into http, https, other, and repeated lists. \n",
    "    @returns the sum of the lengths of the lists we are storing the links in (http, https, repeated, and other)\n",
    "    \"\"\"\n",
    "    https_links = []\n",
    "    http_links = []\n",
    "    repeated_links = []\n",
    "    other_links = []\n",
    "    for url in data.iterrows():\n",
    "        if url[-1][0][:5] == 'https':\n",
    "            if (url[-1][0] in https_links) & (url[-1][0] not in repeated_links):\n",
    "                repeated_links.append(url[-1][0])\n",
    "            else:\n",
    "                https_links.append(url[-1][0])\n",
    "        elif url[-1][0][:5] == \"http:\":\n",
    "            if (url[-1][0] in http_links) & (url[-1][0] not in repeated_links):\n",
    "                repeated_links.append(url[-1][0])\n",
    "            else:\n",
    "                http_links.append(url[-1][0])\n",
    "        else:\n",
    "            other_links.append(url[-1][0])\n",
    "    # print(len(https_links)) # 1821 sites with SSL certificates\n",
    "    # print(len(http_links)) # 440 sites without SSL certificate\n",
    "    # print(len(repeated_links)) # 321 links contain multiple new words\n",
    "    # print(len(other_link)) # 5 unclassified links (\"Not found\" in the dataframe)\n",
    "    print(len(repeated_links) + len(http_links) + len(https_links) + len(other_links))\n",
    "    \n",
    "print(\"Testing classifyLinks Function\")\n",
    "classifyLinks(link_df)\n",
    "print('-------------------------------------------------------------------------------------------------------------------- \\n\\n')\n",
    "\n",
    "print(\"Testing if number of links is same in both function results\")\n",
    "if linkTypesCount(df[['URL']]) == classifyLinks(link_df):\n",
    "    print('true') # check if the number of rows is equal\n",
    "print('-------------------------------------------------------------------------------------------------------------------- \\n\\n')"
   ]
  },
  {
   "cell_type": "code",
   "execution_count": 91,
   "metadata": {},
   "outputs": [
    {
     "output_type": "stream",
     "name": "stdout",
     "text": "Testing mplHist function\n"
    },
    {
     "output_type": "display_data",
     "data": {
      "text/plain": "<Figure size 1080x720 with 1 Axes>",
      "image/svg+xml": "<?xml version=\"1.0\" encoding=\"utf-8\" standalone=\"no\"?>\n<!DOCTYPE svg PUBLIC \"-//W3C//DTD SVG 1.1//EN\"\n  \"http://www.w3.org/Graphics/SVG/1.1/DTD/svg11.dtd\">\n<!-- Created with matplotlib (https://matplotlib.org/) -->\n<svg height=\"589.79625pt\" version=\"1.1\" viewBox=\"0 0 883.85 589.79625\" width=\"883.85pt\" xmlns=\"http://www.w3.org/2000/svg\" xmlns:xlink=\"http://www.w3.org/1999/xlink\">\n <defs>\n  <style type=\"text/css\">\n*{stroke-linecap:butt;stroke-linejoin:round;}\n  </style>\n </defs>\n <g id=\"figure_1\">\n  <g id=\"patch_1\">\n   <path d=\"M -0 589.79625 \nL 883.85 589.79625 \nL 883.85 0 \nL -0 0 \nz\n\" style=\"fill:none;\"/>\n  </g>\n  <g id=\"axes_1\">\n   <g id=\"patch_2\">\n    <path d=\"M 39.65 565.918125 \nL 876.65 565.918125 \nL 876.65 22.318125 \nL 39.65 22.318125 \nz\n\" style=\"fill:#ffffff;\"/>\n   </g>\n   <g id=\"patch_3\">\n    <path clip-path=\"url(#pd6d1064843)\" d=\"M 77.695455 565.918125 \nL 237.886842 565.918125 \nL 237.886842 48.203839 \nL 77.695455 48.203839 \nz\n\" style=\"fill:#1f77b4;\"/>\n   </g>\n   <g id=\"patch_4\">\n    <path clip-path=\"url(#pd6d1064843)\" d=\"M 277.934689 565.918125 \nL 438.126077 565.918125 \nL 438.126077 440.825162 \nL 277.934689 440.825162 \nz\n\" style=\"fill:#1f77b4;\"/>\n   </g>\n   <g id=\"patch_5\">\n    <path clip-path=\"url(#pd6d1064843)\" d=\"M 478.173923 565.918125 \nL 638.365311 565.918125 \nL 638.365311 474.657122 \nL 478.173923 474.657122 \nz\n\" style=\"fill:#1f77b4;\"/>\n   </g>\n   <g id=\"patch_6\">\n    <path clip-path=\"url(#pd6d1064843)\" d=\"M 678.413158 565.918125 \nL 838.604545 565.918125 \nL 838.604545 564.496614 \nL 678.413158 564.496614 \nz\n\" style=\"fill:#1f77b4;\"/>\n   </g>\n   <g id=\"matplotlib.axis_1\">\n    <g id=\"xtick_1\">\n     <g id=\"line2d_1\">\n      <defs>\n       <path d=\"M 0 0 \nL 0 3.5 \n\" id=\"mcc02400c09\" style=\"stroke:#000000;stroke-width:0.8;\"/>\n      </defs>\n      <g>\n       <use style=\"stroke:#000000;stroke-width:0.8;\" x=\"157.791148\" xlink:href=\"#mcc02400c09\" y=\"565.918125\"/>\n      </g>\n     </g>\n     <g id=\"text_1\">\n      <!-- https count -->\n      <defs>\n       <path d=\"M 54.890625 33.015625 \nL 54.890625 0 \nL 45.90625 0 \nL 45.90625 32.71875 \nQ 45.90625 40.484375 42.875 44.328125 \nQ 39.84375 48.1875 33.796875 48.1875 \nQ 26.515625 48.1875 22.3125 43.546875 \nQ 18.109375 38.921875 18.109375 30.90625 \nL 18.109375 0 \nL 9.078125 0 \nL 9.078125 75.984375 \nL 18.109375 75.984375 \nL 18.109375 46.1875 \nQ 21.34375 51.125 25.703125 53.5625 \nQ 30.078125 56 35.796875 56 \nQ 45.21875 56 50.046875 50.171875 \nQ 54.890625 44.34375 54.890625 33.015625 \nz\n\" id=\"DejaVuSans-104\"/>\n       <path d=\"M 18.3125 70.21875 \nL 18.3125 54.6875 \nL 36.8125 54.6875 \nL 36.8125 47.703125 \nL 18.3125 47.703125 \nL 18.3125 18.015625 \nQ 18.3125 11.328125 20.140625 9.421875 \nQ 21.96875 7.515625 27.59375 7.515625 \nL 36.8125 7.515625 \nL 36.8125 0 \nL 27.59375 0 \nQ 17.1875 0 13.234375 3.875 \nQ 9.28125 7.765625 9.28125 18.015625 \nL 9.28125 47.703125 \nL 2.6875 47.703125 \nL 2.6875 54.6875 \nL 9.28125 54.6875 \nL 9.28125 70.21875 \nz\n\" id=\"DejaVuSans-116\"/>\n       <path d=\"M 18.109375 8.203125 \nL 18.109375 -20.796875 \nL 9.078125 -20.796875 \nL 9.078125 54.6875 \nL 18.109375 54.6875 \nL 18.109375 46.390625 \nQ 20.953125 51.265625 25.265625 53.625 \nQ 29.59375 56 35.59375 56 \nQ 45.5625 56 51.78125 48.09375 \nQ 58.015625 40.1875 58.015625 27.296875 \nQ 58.015625 14.40625 51.78125 6.484375 \nQ 45.5625 -1.421875 35.59375 -1.421875 \nQ 29.59375 -1.421875 25.265625 0.953125 \nQ 20.953125 3.328125 18.109375 8.203125 \nz\nM 48.6875 27.296875 \nQ 48.6875 37.203125 44.609375 42.84375 \nQ 40.53125 48.484375 33.40625 48.484375 \nQ 26.265625 48.484375 22.1875 42.84375 \nQ 18.109375 37.203125 18.109375 27.296875 \nQ 18.109375 17.390625 22.1875 11.75 \nQ 26.265625 6.109375 33.40625 6.109375 \nQ 40.53125 6.109375 44.609375 11.75 \nQ 48.6875 17.390625 48.6875 27.296875 \nz\n\" id=\"DejaVuSans-112\"/>\n       <path d=\"M 44.28125 53.078125 \nL 44.28125 44.578125 \nQ 40.484375 46.53125 36.375 47.5 \nQ 32.28125 48.484375 27.875 48.484375 \nQ 21.1875 48.484375 17.84375 46.4375 \nQ 14.5 44.390625 14.5 40.28125 \nQ 14.5 37.15625 16.890625 35.375 \nQ 19.28125 33.59375 26.515625 31.984375 \nL 29.59375 31.296875 \nQ 39.15625 29.25 43.1875 25.515625 \nQ 47.21875 21.78125 47.21875 15.09375 \nQ 47.21875 7.46875 41.1875 3.015625 \nQ 35.15625 -1.421875 24.609375 -1.421875 \nQ 20.21875 -1.421875 15.453125 -0.5625 \nQ 10.6875 0.296875 5.421875 2 \nL 5.421875 11.28125 \nQ 10.40625 8.6875 15.234375 7.390625 \nQ 20.0625 6.109375 24.8125 6.109375 \nQ 31.15625 6.109375 34.5625 8.28125 \nQ 37.984375 10.453125 37.984375 14.40625 \nQ 37.984375 18.0625 35.515625 20.015625 \nQ 33.0625 21.96875 24.703125 23.78125 \nL 21.578125 24.515625 \nQ 13.234375 26.265625 9.515625 29.90625 \nQ 5.8125 33.546875 5.8125 39.890625 \nQ 5.8125 47.609375 11.28125 51.796875 \nQ 16.75 56 26.8125 56 \nQ 31.78125 56 36.171875 55.265625 \nQ 40.578125 54.546875 44.28125 53.078125 \nz\n\" id=\"DejaVuSans-115\"/>\n       <path id=\"DejaVuSans-32\"/>\n       <path d=\"M 48.78125 52.59375 \nL 48.78125 44.1875 \nQ 44.96875 46.296875 41.140625 47.34375 \nQ 37.3125 48.390625 33.40625 48.390625 \nQ 24.65625 48.390625 19.8125 42.84375 \nQ 14.984375 37.3125 14.984375 27.296875 \nQ 14.984375 17.28125 19.8125 11.734375 \nQ 24.65625 6.203125 33.40625 6.203125 \nQ 37.3125 6.203125 41.140625 7.25 \nQ 44.96875 8.296875 48.78125 10.40625 \nL 48.78125 2.09375 \nQ 45.015625 0.34375 40.984375 -0.53125 \nQ 36.96875 -1.421875 32.421875 -1.421875 \nQ 20.0625 -1.421875 12.78125 6.34375 \nQ 5.515625 14.109375 5.515625 27.296875 \nQ 5.515625 40.671875 12.859375 48.328125 \nQ 20.21875 56 33.015625 56 \nQ 37.15625 56 41.109375 55.140625 \nQ 45.0625 54.296875 48.78125 52.59375 \nz\n\" id=\"DejaVuSans-99\"/>\n       <path d=\"M 30.609375 48.390625 \nQ 23.390625 48.390625 19.1875 42.75 \nQ 14.984375 37.109375 14.984375 27.296875 \nQ 14.984375 17.484375 19.15625 11.84375 \nQ 23.34375 6.203125 30.609375 6.203125 \nQ 37.796875 6.203125 41.984375 11.859375 \nQ 46.1875 17.53125 46.1875 27.296875 \nQ 46.1875 37.015625 41.984375 42.703125 \nQ 37.796875 48.390625 30.609375 48.390625 \nz\nM 30.609375 56 \nQ 42.328125 56 49.015625 48.375 \nQ 55.71875 40.765625 55.71875 27.296875 \nQ 55.71875 13.875 49.015625 6.21875 \nQ 42.328125 -1.421875 30.609375 -1.421875 \nQ 18.84375 -1.421875 12.171875 6.21875 \nQ 5.515625 13.875 5.515625 27.296875 \nQ 5.515625 40.765625 12.171875 48.375 \nQ 18.84375 56 30.609375 56 \nz\n\" id=\"DejaVuSans-111\"/>\n       <path d=\"M 8.5 21.578125 \nL 8.5 54.6875 \nL 17.484375 54.6875 \nL 17.484375 21.921875 \nQ 17.484375 14.15625 20.5 10.265625 \nQ 23.53125 6.390625 29.59375 6.390625 \nQ 36.859375 6.390625 41.078125 11.03125 \nQ 45.3125 15.671875 45.3125 23.6875 \nL 45.3125 54.6875 \nL 54.296875 54.6875 \nL 54.296875 0 \nL 45.3125 0 \nL 45.3125 8.40625 \nQ 42.046875 3.421875 37.71875 1 \nQ 33.40625 -1.421875 27.6875 -1.421875 \nQ 18.265625 -1.421875 13.375 4.4375 \nQ 8.5 10.296875 8.5 21.578125 \nz\nM 31.109375 56 \nz\n\" id=\"DejaVuSans-117\"/>\n       <path d=\"M 54.890625 33.015625 \nL 54.890625 0 \nL 45.90625 0 \nL 45.90625 32.71875 \nQ 45.90625 40.484375 42.875 44.328125 \nQ 39.84375 48.1875 33.796875 48.1875 \nQ 26.515625 48.1875 22.3125 43.546875 \nQ 18.109375 38.921875 18.109375 30.90625 \nL 18.109375 0 \nL 9.078125 0 \nL 9.078125 54.6875 \nL 18.109375 54.6875 \nL 18.109375 46.1875 \nQ 21.34375 51.125 25.703125 53.5625 \nQ 30.078125 56 35.796875 56 \nQ 45.21875 56 50.046875 50.171875 \nQ 54.890625 44.34375 54.890625 33.015625 \nz\n\" id=\"DejaVuSans-110\"/>\n      </defs>\n      <g transform=\"translate(129.227867 580.516562)scale(0.1 -0.1)\">\n       <use xlink:href=\"#DejaVuSans-104\"/>\n       <use x=\"63.378906\" xlink:href=\"#DejaVuSans-116\"/>\n       <use x=\"102.587891\" xlink:href=\"#DejaVuSans-116\"/>\n       <use x=\"141.796875\" xlink:href=\"#DejaVuSans-112\"/>\n       <use x=\"205.273438\" xlink:href=\"#DejaVuSans-115\"/>\n       <use x=\"257.373047\" xlink:href=\"#DejaVuSans-32\"/>\n       <use x=\"289.160156\" xlink:href=\"#DejaVuSans-99\"/>\n       <use x=\"344.140625\" xlink:href=\"#DejaVuSans-111\"/>\n       <use x=\"405.322266\" xlink:href=\"#DejaVuSans-117\"/>\n       <use x=\"468.701172\" xlink:href=\"#DejaVuSans-110\"/>\n       <use x=\"532.080078\" xlink:href=\"#DejaVuSans-116\"/>\n      </g>\n     </g>\n    </g>\n    <g id=\"xtick_2\">\n     <g id=\"line2d_2\">\n      <g>\n       <use style=\"stroke:#000000;stroke-width:0.8;\" x=\"358.030383\" xlink:href=\"#mcc02400c09\" y=\"565.918125\"/>\n      </g>\n     </g>\n     <g id=\"text_2\">\n      <!-- http count -->\n      <g transform=\"translate(332.071789 580.516562)scale(0.1 -0.1)\">\n       <use xlink:href=\"#DejaVuSans-104\"/>\n       <use x=\"63.378906\" xlink:href=\"#DejaVuSans-116\"/>\n       <use x=\"102.587891\" xlink:href=\"#DejaVuSans-116\"/>\n       <use x=\"141.796875\" xlink:href=\"#DejaVuSans-112\"/>\n       <use x=\"205.273438\" xlink:href=\"#DejaVuSans-32\"/>\n       <use x=\"237.060547\" xlink:href=\"#DejaVuSans-99\"/>\n       <use x=\"292.041016\" xlink:href=\"#DejaVuSans-111\"/>\n       <use x=\"353.222656\" xlink:href=\"#DejaVuSans-117\"/>\n       <use x=\"416.601562\" xlink:href=\"#DejaVuSans-110\"/>\n       <use x=\"479.980469\" xlink:href=\"#DejaVuSans-116\"/>\n      </g>\n     </g>\n    </g>\n    <g id=\"xtick_3\">\n     <g id=\"line2d_3\">\n      <g>\n       <use style=\"stroke:#000000;stroke-width:0.8;\" x=\"558.269617\" xlink:href=\"#mcc02400c09\" y=\"565.918125\"/>\n      </g>\n     </g>\n     <g id=\"text_3\">\n      <!-- repeated link count -->\n      <defs>\n       <path d=\"M 41.109375 46.296875 \nQ 39.59375 47.171875 37.8125 47.578125 \nQ 36.03125 48 33.890625 48 \nQ 26.265625 48 22.1875 43.046875 \nQ 18.109375 38.09375 18.109375 28.8125 \nL 18.109375 0 \nL 9.078125 0 \nL 9.078125 54.6875 \nL 18.109375 54.6875 \nL 18.109375 46.1875 \nQ 20.953125 51.171875 25.484375 53.578125 \nQ 30.03125 56 36.53125 56 \nQ 37.453125 56 38.578125 55.875 \nQ 39.703125 55.765625 41.0625 55.515625 \nz\n\" id=\"DejaVuSans-114\"/>\n       <path d=\"M 56.203125 29.59375 \nL 56.203125 25.203125 \nL 14.890625 25.203125 \nQ 15.484375 15.921875 20.484375 11.0625 \nQ 25.484375 6.203125 34.421875 6.203125 \nQ 39.59375 6.203125 44.453125 7.46875 \nQ 49.3125 8.734375 54.109375 11.28125 \nL 54.109375 2.78125 \nQ 49.265625 0.734375 44.1875 -0.34375 \nQ 39.109375 -1.421875 33.890625 -1.421875 \nQ 20.796875 -1.421875 13.15625 6.1875 \nQ 5.515625 13.8125 5.515625 26.8125 \nQ 5.515625 40.234375 12.765625 48.109375 \nQ 20.015625 56 32.328125 56 \nQ 43.359375 56 49.78125 48.890625 \nQ 56.203125 41.796875 56.203125 29.59375 \nz\nM 47.21875 32.234375 \nQ 47.125 39.59375 43.09375 43.984375 \nQ 39.0625 48.390625 32.421875 48.390625 \nQ 24.90625 48.390625 20.390625 44.140625 \nQ 15.875 39.890625 15.1875 32.171875 \nz\n\" id=\"DejaVuSans-101\"/>\n       <path d=\"M 34.28125 27.484375 \nQ 23.390625 27.484375 19.1875 25 \nQ 14.984375 22.515625 14.984375 16.5 \nQ 14.984375 11.71875 18.140625 8.90625 \nQ 21.296875 6.109375 26.703125 6.109375 \nQ 34.1875 6.109375 38.703125 11.40625 \nQ 43.21875 16.703125 43.21875 25.484375 \nL 43.21875 27.484375 \nz\nM 52.203125 31.203125 \nL 52.203125 0 \nL 43.21875 0 \nL 43.21875 8.296875 \nQ 40.140625 3.328125 35.546875 0.953125 \nQ 30.953125 -1.421875 24.3125 -1.421875 \nQ 15.921875 -1.421875 10.953125 3.296875 \nQ 6 8.015625 6 15.921875 \nQ 6 25.140625 12.171875 29.828125 \nQ 18.359375 34.515625 30.609375 34.515625 \nL 43.21875 34.515625 \nL 43.21875 35.40625 \nQ 43.21875 41.609375 39.140625 45 \nQ 35.0625 48.390625 27.6875 48.390625 \nQ 23 48.390625 18.546875 47.265625 \nQ 14.109375 46.140625 10.015625 43.890625 \nL 10.015625 52.203125 \nQ 14.9375 54.109375 19.578125 55.046875 \nQ 24.21875 56 28.609375 56 \nQ 40.484375 56 46.34375 49.84375 \nQ 52.203125 43.703125 52.203125 31.203125 \nz\n\" id=\"DejaVuSans-97\"/>\n       <path d=\"M 45.40625 46.390625 \nL 45.40625 75.984375 \nL 54.390625 75.984375 \nL 54.390625 0 \nL 45.40625 0 \nL 45.40625 8.203125 \nQ 42.578125 3.328125 38.25 0.953125 \nQ 33.9375 -1.421875 27.875 -1.421875 \nQ 17.96875 -1.421875 11.734375 6.484375 \nQ 5.515625 14.40625 5.515625 27.296875 \nQ 5.515625 40.1875 11.734375 48.09375 \nQ 17.96875 56 27.875 56 \nQ 33.9375 56 38.25 53.625 \nQ 42.578125 51.265625 45.40625 46.390625 \nz\nM 14.796875 27.296875 \nQ 14.796875 17.390625 18.875 11.75 \nQ 22.953125 6.109375 30.078125 6.109375 \nQ 37.203125 6.109375 41.296875 11.75 \nQ 45.40625 17.390625 45.40625 27.296875 \nQ 45.40625 37.203125 41.296875 42.84375 \nQ 37.203125 48.484375 30.078125 48.484375 \nQ 22.953125 48.484375 18.875 42.84375 \nQ 14.796875 37.203125 14.796875 27.296875 \nz\n\" id=\"DejaVuSans-100\"/>\n       <path d=\"M 9.421875 75.984375 \nL 18.40625 75.984375 \nL 18.40625 0 \nL 9.421875 0 \nz\n\" id=\"DejaVuSans-108\"/>\n       <path d=\"M 9.421875 54.6875 \nL 18.40625 54.6875 \nL 18.40625 0 \nL 9.421875 0 \nz\nM 9.421875 75.984375 \nL 18.40625 75.984375 \nL 18.40625 64.59375 \nL 9.421875 64.59375 \nz\n\" id=\"DejaVuSans-105\"/>\n       <path d=\"M 9.078125 75.984375 \nL 18.109375 75.984375 \nL 18.109375 31.109375 \nL 44.921875 54.6875 \nL 56.390625 54.6875 \nL 27.390625 29.109375 \nL 57.625 0 \nL 45.90625 0 \nL 18.109375 26.703125 \nL 18.109375 0 \nL 9.078125 0 \nz\n\" id=\"DejaVuSans-107\"/>\n      </defs>\n      <g transform=\"translate(509.597742 580.516562)scale(0.1 -0.1)\">\n       <use xlink:href=\"#DejaVuSans-114\"/>\n       <use x=\"38.863281\" xlink:href=\"#DejaVuSans-101\"/>\n       <use x=\"100.386719\" xlink:href=\"#DejaVuSans-112\"/>\n       <use x=\"163.863281\" xlink:href=\"#DejaVuSans-101\"/>\n       <use x=\"225.386719\" xlink:href=\"#DejaVuSans-97\"/>\n       <use x=\"286.666016\" xlink:href=\"#DejaVuSans-116\"/>\n       <use x=\"325.875\" xlink:href=\"#DejaVuSans-101\"/>\n       <use x=\"387.398438\" xlink:href=\"#DejaVuSans-100\"/>\n       <use x=\"450.875\" xlink:href=\"#DejaVuSans-32\"/>\n       <use x=\"482.662109\" xlink:href=\"#DejaVuSans-108\"/>\n       <use x=\"510.445312\" xlink:href=\"#DejaVuSans-105\"/>\n       <use x=\"538.228516\" xlink:href=\"#DejaVuSans-110\"/>\n       <use x=\"601.607422\" xlink:href=\"#DejaVuSans-107\"/>\n       <use x=\"659.517578\" xlink:href=\"#DejaVuSans-32\"/>\n       <use x=\"691.304688\" xlink:href=\"#DejaVuSans-99\"/>\n       <use x=\"746.285156\" xlink:href=\"#DejaVuSans-111\"/>\n       <use x=\"807.466797\" xlink:href=\"#DejaVuSans-117\"/>\n       <use x=\"870.845703\" xlink:href=\"#DejaVuSans-110\"/>\n       <use x=\"934.224609\" xlink:href=\"#DejaVuSans-116\"/>\n      </g>\n     </g>\n    </g>\n    <g id=\"xtick_4\">\n     <g id=\"line2d_4\">\n      <g>\n       <use style=\"stroke:#000000;stroke-width:0.8;\" x=\"758.508852\" xlink:href=\"#mcc02400c09\" y=\"565.918125\"/>\n      </g>\n     </g>\n     <g id=\"text_4\">\n      <!-- other count -->\n      <g transform=\"translate(729.493227 580.516562)scale(0.1 -0.1)\">\n       <use xlink:href=\"#DejaVuSans-111\"/>\n       <use x=\"61.181641\" xlink:href=\"#DejaVuSans-116\"/>\n       <use x=\"100.390625\" xlink:href=\"#DejaVuSans-104\"/>\n       <use x=\"163.769531\" xlink:href=\"#DejaVuSans-101\"/>\n       <use x=\"225.292969\" xlink:href=\"#DejaVuSans-114\"/>\n       <use x=\"266.40625\" xlink:href=\"#DejaVuSans-32\"/>\n       <use x=\"298.193359\" xlink:href=\"#DejaVuSans-99\"/>\n       <use x=\"353.173828\" xlink:href=\"#DejaVuSans-111\"/>\n       <use x=\"414.355469\" xlink:href=\"#DejaVuSans-117\"/>\n       <use x=\"477.734375\" xlink:href=\"#DejaVuSans-110\"/>\n       <use x=\"541.113281\" xlink:href=\"#DejaVuSans-116\"/>\n      </g>\n     </g>\n    </g>\n   </g>\n   <g id=\"matplotlib.axis_2\">\n    <g id=\"ytick_1\">\n     <g id=\"line2d_5\">\n      <defs>\n       <path d=\"M 0 0 \nL -3.5 0 \n\" id=\"md4b5de25fe\" style=\"stroke:#000000;stroke-width:0.8;\"/>\n      </defs>\n      <g>\n       <use style=\"stroke:#000000;stroke-width:0.8;\" x=\"39.65\" xlink:href=\"#md4b5de25fe\" y=\"565.918125\"/>\n      </g>\n     </g>\n     <g id=\"text_5\">\n      <!-- 0 -->\n      <defs>\n       <path d=\"M 31.78125 66.40625 \nQ 24.171875 66.40625 20.328125 58.90625 \nQ 16.5 51.421875 16.5 36.375 \nQ 16.5 21.390625 20.328125 13.890625 \nQ 24.171875 6.390625 31.78125 6.390625 \nQ 39.453125 6.390625 43.28125 13.890625 \nQ 47.125 21.390625 47.125 36.375 \nQ 47.125 51.421875 43.28125 58.90625 \nQ 39.453125 66.40625 31.78125 66.40625 \nz\nM 31.78125 74.21875 \nQ 44.046875 74.21875 50.515625 64.515625 \nQ 56.984375 54.828125 56.984375 36.375 \nQ 56.984375 17.96875 50.515625 8.265625 \nQ 44.046875 -1.421875 31.78125 -1.421875 \nQ 19.53125 -1.421875 13.0625 8.265625 \nQ 6.59375 17.96875 6.59375 36.375 \nQ 6.59375 54.828125 13.0625 64.515625 \nQ 19.53125 74.21875 31.78125 74.21875 \nz\n\" id=\"DejaVuSans-48\"/>\n      </defs>\n      <g transform=\"translate(26.2875 569.717344)scale(0.1 -0.1)\">\n       <use xlink:href=\"#DejaVuSans-48\"/>\n      </g>\n     </g>\n    </g>\n    <g id=\"ytick_2\">\n     <g id=\"line2d_6\">\n      <g>\n       <use style=\"stroke:#000000;stroke-width:0.8;\" x=\"39.65\" xlink:href=\"#md4b5de25fe\" y=\"494.842578\"/>\n      </g>\n     </g>\n     <g id=\"text_6\">\n      <!-- 250 -->\n      <defs>\n       <path d=\"M 19.1875 8.296875 \nL 53.609375 8.296875 \nL 53.609375 0 \nL 7.328125 0 \nL 7.328125 8.296875 \nQ 12.9375 14.109375 22.625 23.890625 \nQ 32.328125 33.6875 34.8125 36.53125 \nQ 39.546875 41.84375 41.421875 45.53125 \nQ 43.3125 49.21875 43.3125 52.78125 \nQ 43.3125 58.59375 39.234375 62.25 \nQ 35.15625 65.921875 28.609375 65.921875 \nQ 23.96875 65.921875 18.8125 64.3125 \nQ 13.671875 62.703125 7.8125 59.421875 \nL 7.8125 69.390625 \nQ 13.765625 71.78125 18.9375 73 \nQ 24.125 74.21875 28.421875 74.21875 \nQ 39.75 74.21875 46.484375 68.546875 \nQ 53.21875 62.890625 53.21875 53.421875 \nQ 53.21875 48.921875 51.53125 44.890625 \nQ 49.859375 40.875 45.40625 35.40625 \nQ 44.1875 33.984375 37.640625 27.21875 \nQ 31.109375 20.453125 19.1875 8.296875 \nz\n\" id=\"DejaVuSans-50\"/>\n       <path d=\"M 10.796875 72.90625 \nL 49.515625 72.90625 \nL 49.515625 64.59375 \nL 19.828125 64.59375 \nL 19.828125 46.734375 \nQ 21.96875 47.46875 24.109375 47.828125 \nQ 26.265625 48.1875 28.421875 48.1875 \nQ 40.625 48.1875 47.75 41.5 \nQ 54.890625 34.8125 54.890625 23.390625 \nQ 54.890625 11.625 47.5625 5.09375 \nQ 40.234375 -1.421875 26.90625 -1.421875 \nQ 22.3125 -1.421875 17.546875 -0.640625 \nQ 12.796875 0.140625 7.71875 1.703125 \nL 7.71875 11.625 \nQ 12.109375 9.234375 16.796875 8.0625 \nQ 21.484375 6.890625 26.703125 6.890625 \nQ 35.15625 6.890625 40.078125 11.328125 \nQ 45.015625 15.765625 45.015625 23.390625 \nQ 45.015625 31 40.078125 35.4375 \nQ 35.15625 39.890625 26.703125 39.890625 \nQ 22.75 39.890625 18.8125 39.015625 \nQ 14.890625 38.140625 10.796875 36.28125 \nz\n\" id=\"DejaVuSans-53\"/>\n      </defs>\n      <g transform=\"translate(13.5625 498.641797)scale(0.1 -0.1)\">\n       <use xlink:href=\"#DejaVuSans-50\"/>\n       <use x=\"63.623047\" xlink:href=\"#DejaVuSans-53\"/>\n       <use x=\"127.246094\" xlink:href=\"#DejaVuSans-48\"/>\n      </g>\n     </g>\n    </g>\n    <g id=\"ytick_3\">\n     <g id=\"line2d_7\">\n      <g>\n       <use style=\"stroke:#000000;stroke-width:0.8;\" x=\"39.65\" xlink:href=\"#md4b5de25fe\" y=\"423.767031\"/>\n      </g>\n     </g>\n     <g id=\"text_7\">\n      <!-- 500 -->\n      <g transform=\"translate(13.5625 427.566249)scale(0.1 -0.1)\">\n       <use xlink:href=\"#DejaVuSans-53\"/>\n       <use x=\"63.623047\" xlink:href=\"#DejaVuSans-48\"/>\n       <use x=\"127.246094\" xlink:href=\"#DejaVuSans-48\"/>\n      </g>\n     </g>\n    </g>\n    <g id=\"ytick_4\">\n     <g id=\"line2d_8\">\n      <g>\n       <use style=\"stroke:#000000;stroke-width:0.8;\" x=\"39.65\" xlink:href=\"#md4b5de25fe\" y=\"352.691483\"/>\n      </g>\n     </g>\n     <g id=\"text_8\">\n      <!-- 750 -->\n      <defs>\n       <path d=\"M 8.203125 72.90625 \nL 55.078125 72.90625 \nL 55.078125 68.703125 \nL 28.609375 0 \nL 18.3125 0 \nL 43.21875 64.59375 \nL 8.203125 64.59375 \nz\n\" id=\"DejaVuSans-55\"/>\n      </defs>\n      <g transform=\"translate(13.5625 356.490702)scale(0.1 -0.1)\">\n       <use xlink:href=\"#DejaVuSans-55\"/>\n       <use x=\"63.623047\" xlink:href=\"#DejaVuSans-53\"/>\n       <use x=\"127.246094\" xlink:href=\"#DejaVuSans-48\"/>\n      </g>\n     </g>\n    </g>\n    <g id=\"ytick_5\">\n     <g id=\"line2d_9\">\n      <g>\n       <use style=\"stroke:#000000;stroke-width:0.8;\" x=\"39.65\" xlink:href=\"#md4b5de25fe\" y=\"281.615936\"/>\n      </g>\n     </g>\n     <g id=\"text_9\">\n      <!-- 1000 -->\n      <defs>\n       <path d=\"M 12.40625 8.296875 \nL 28.515625 8.296875 \nL 28.515625 63.921875 \nL 10.984375 60.40625 \nL 10.984375 69.390625 \nL 28.421875 72.90625 \nL 38.28125 72.90625 \nL 38.28125 8.296875 \nL 54.390625 8.296875 \nL 54.390625 0 \nL 12.40625 0 \nz\n\" id=\"DejaVuSans-49\"/>\n      </defs>\n      <g transform=\"translate(7.2 285.415155)scale(0.1 -0.1)\">\n       <use xlink:href=\"#DejaVuSans-49\"/>\n       <use x=\"63.623047\" xlink:href=\"#DejaVuSans-48\"/>\n       <use x=\"127.246094\" xlink:href=\"#DejaVuSans-48\"/>\n       <use x=\"190.869141\" xlink:href=\"#DejaVuSans-48\"/>\n      </g>\n     </g>\n    </g>\n    <g id=\"ytick_6\">\n     <g id=\"line2d_10\">\n      <g>\n       <use style=\"stroke:#000000;stroke-width:0.8;\" x=\"39.65\" xlink:href=\"#md4b5de25fe\" y=\"210.540389\"/>\n      </g>\n     </g>\n     <g id=\"text_10\">\n      <!-- 1250 -->\n      <g transform=\"translate(7.2 214.339608)scale(0.1 -0.1)\">\n       <use xlink:href=\"#DejaVuSans-49\"/>\n       <use x=\"63.623047\" xlink:href=\"#DejaVuSans-50\"/>\n       <use x=\"127.246094\" xlink:href=\"#DejaVuSans-53\"/>\n       <use x=\"190.869141\" xlink:href=\"#DejaVuSans-48\"/>\n      </g>\n     </g>\n    </g>\n    <g id=\"ytick_7\">\n     <g id=\"line2d_11\">\n      <g>\n       <use style=\"stroke:#000000;stroke-width:0.8;\" x=\"39.65\" xlink:href=\"#md4b5de25fe\" y=\"139.464842\"/>\n      </g>\n     </g>\n     <g id=\"text_11\">\n      <!-- 1500 -->\n      <g transform=\"translate(7.2 143.264061)scale(0.1 -0.1)\">\n       <use xlink:href=\"#DejaVuSans-49\"/>\n       <use x=\"63.623047\" xlink:href=\"#DejaVuSans-53\"/>\n       <use x=\"127.246094\" xlink:href=\"#DejaVuSans-48\"/>\n       <use x=\"190.869141\" xlink:href=\"#DejaVuSans-48\"/>\n      </g>\n     </g>\n    </g>\n    <g id=\"ytick_8\">\n     <g id=\"line2d_12\">\n      <g>\n       <use style=\"stroke:#000000;stroke-width:0.8;\" x=\"39.65\" xlink:href=\"#md4b5de25fe\" y=\"68.389295\"/>\n      </g>\n     </g>\n     <g id=\"text_12\">\n      <!-- 1750 -->\n      <g transform=\"translate(7.2 72.188513)scale(0.1 -0.1)\">\n       <use xlink:href=\"#DejaVuSans-49\"/>\n       <use x=\"63.623047\" xlink:href=\"#DejaVuSans-55\"/>\n       <use x=\"127.246094\" xlink:href=\"#DejaVuSans-53\"/>\n       <use x=\"190.869141\" xlink:href=\"#DejaVuSans-48\"/>\n      </g>\n     </g>\n    </g>\n   </g>\n   <g id=\"patch_7\">\n    <path d=\"M 39.65 565.918125 \nL 39.65 22.318125 \n\" style=\"fill:none;stroke:#000000;stroke-linecap:square;stroke-linejoin:miter;stroke-width:0.8;\"/>\n   </g>\n   <g id=\"patch_8\">\n    <path d=\"M 876.65 565.918125 \nL 876.65 22.318125 \n\" style=\"fill:none;stroke:#000000;stroke-linecap:square;stroke-linejoin:miter;stroke-width:0.8;\"/>\n   </g>\n   <g id=\"patch_9\">\n    <path d=\"M 39.65 565.918125 \nL 876.65 565.918125 \n\" style=\"fill:none;stroke:#000000;stroke-linecap:square;stroke-linejoin:miter;stroke-width:0.8;\"/>\n   </g>\n   <g id=\"patch_10\">\n    <path d=\"M 39.65 22.318125 \nL 876.65 22.318125 \n\" style=\"fill:none;stroke:#000000;stroke-linecap:square;stroke-linejoin:miter;stroke-width:0.8;\"/>\n   </g>\n   <g id=\"text_13\">\n    <!-- Frequency of Link Types in NYTWIT_V1 Dataset -->\n    <defs>\n     <path d=\"M 9.8125 72.90625 \nL 51.703125 72.90625 \nL 51.703125 64.59375 \nL 19.671875 64.59375 \nL 19.671875 43.109375 \nL 48.578125 43.109375 \nL 48.578125 34.8125 \nL 19.671875 34.8125 \nL 19.671875 0 \nL 9.8125 0 \nz\n\" id=\"DejaVuSans-70\"/>\n     <path d=\"M 14.796875 27.296875 \nQ 14.796875 17.390625 18.875 11.75 \nQ 22.953125 6.109375 30.078125 6.109375 \nQ 37.203125 6.109375 41.296875 11.75 \nQ 45.40625 17.390625 45.40625 27.296875 \nQ 45.40625 37.203125 41.296875 42.84375 \nQ 37.203125 48.484375 30.078125 48.484375 \nQ 22.953125 48.484375 18.875 42.84375 \nQ 14.796875 37.203125 14.796875 27.296875 \nz\nM 45.40625 8.203125 \nQ 42.578125 3.328125 38.25 0.953125 \nQ 33.9375 -1.421875 27.875 -1.421875 \nQ 17.96875 -1.421875 11.734375 6.484375 \nQ 5.515625 14.40625 5.515625 27.296875 \nQ 5.515625 40.1875 11.734375 48.09375 \nQ 17.96875 56 27.875 56 \nQ 33.9375 56 38.25 53.625 \nQ 42.578125 51.265625 45.40625 46.390625 \nL 45.40625 54.6875 \nL 54.390625 54.6875 \nL 54.390625 -20.796875 \nL 45.40625 -20.796875 \nz\n\" id=\"DejaVuSans-113\"/>\n     <path d=\"M 32.171875 -5.078125 \nQ 28.375 -14.84375 24.75 -17.8125 \nQ 21.140625 -20.796875 15.09375 -20.796875 \nL 7.90625 -20.796875 \nL 7.90625 -13.28125 \nL 13.1875 -13.28125 \nQ 16.890625 -13.28125 18.9375 -11.515625 \nQ 21 -9.765625 23.484375 -3.21875 \nL 25.09375 0.875 \nL 2.984375 54.6875 \nL 12.5 54.6875 \nL 29.59375 11.921875 \nL 46.6875 54.6875 \nL 56.203125 54.6875 \nz\n\" id=\"DejaVuSans-121\"/>\n     <path d=\"M 37.109375 75.984375 \nL 37.109375 68.5 \nL 28.515625 68.5 \nQ 23.6875 68.5 21.796875 66.546875 \nQ 19.921875 64.59375 19.921875 59.515625 \nL 19.921875 54.6875 \nL 34.71875 54.6875 \nL 34.71875 47.703125 \nL 19.921875 47.703125 \nL 19.921875 0 \nL 10.890625 0 \nL 10.890625 47.703125 \nL 2.296875 47.703125 \nL 2.296875 54.6875 \nL 10.890625 54.6875 \nL 10.890625 58.5 \nQ 10.890625 67.625 15.140625 71.796875 \nQ 19.390625 75.984375 28.609375 75.984375 \nz\n\" id=\"DejaVuSans-102\"/>\n     <path d=\"M 9.8125 72.90625 \nL 19.671875 72.90625 \nL 19.671875 8.296875 \nL 55.171875 8.296875 \nL 55.171875 0 \nL 9.8125 0 \nz\n\" id=\"DejaVuSans-76\"/>\n     <path d=\"M -0.296875 72.90625 \nL 61.375 72.90625 \nL 61.375 64.59375 \nL 35.5 64.59375 \nL 35.5 0 \nL 25.59375 0 \nL 25.59375 64.59375 \nL -0.296875 64.59375 \nz\n\" id=\"DejaVuSans-84\"/>\n     <path d=\"M 9.8125 72.90625 \nL 23.09375 72.90625 \nL 55.421875 11.921875 \nL 55.421875 72.90625 \nL 64.984375 72.90625 \nL 64.984375 0 \nL 51.703125 0 \nL 19.390625 60.984375 \nL 19.390625 0 \nL 9.8125 0 \nz\n\" id=\"DejaVuSans-78\"/>\n     <path d=\"M -0.203125 72.90625 \nL 10.40625 72.90625 \nL 30.609375 42.921875 \nL 50.6875 72.90625 \nL 61.28125 72.90625 \nL 35.5 34.71875 \nL 35.5 0 \nL 25.59375 0 \nL 25.59375 34.71875 \nz\n\" id=\"DejaVuSans-89\"/>\n     <path d=\"M 3.328125 72.90625 \nL 13.28125 72.90625 \nL 28.609375 11.28125 \nL 43.890625 72.90625 \nL 54.984375 72.90625 \nL 70.3125 11.28125 \nL 85.59375 72.90625 \nL 95.609375 72.90625 \nL 77.296875 0 \nL 64.890625 0 \nL 49.515625 63.28125 \nL 33.984375 0 \nL 21.578125 0 \nz\n\" id=\"DejaVuSans-87\"/>\n     <path d=\"M 9.8125 72.90625 \nL 19.671875 72.90625 \nL 19.671875 0 \nL 9.8125 0 \nz\n\" id=\"DejaVuSans-73\"/>\n     <path d=\"M 50.984375 -16.609375 \nL 50.984375 -23.578125 \nL -0.984375 -23.578125 \nL -0.984375 -16.609375 \nz\n\" id=\"DejaVuSans-95\"/>\n     <path d=\"M 28.609375 0 \nL 0.78125 72.90625 \nL 11.078125 72.90625 \nL 34.1875 11.53125 \nL 57.328125 72.90625 \nL 67.578125 72.90625 \nL 39.796875 0 \nz\n\" id=\"DejaVuSans-86\"/>\n     <path d=\"M 19.671875 64.796875 \nL 19.671875 8.109375 \nL 31.59375 8.109375 \nQ 46.6875 8.109375 53.6875 14.9375 \nQ 60.6875 21.78125 60.6875 36.53125 \nQ 60.6875 51.171875 53.6875 57.984375 \nQ 46.6875 64.796875 31.59375 64.796875 \nz\nM 9.8125 72.90625 \nL 30.078125 72.90625 \nQ 51.265625 72.90625 61.171875 64.09375 \nQ 71.09375 55.28125 71.09375 36.53125 \nQ 71.09375 17.671875 61.125 8.828125 \nQ 51.171875 0 30.078125 0 \nL 9.8125 0 \nz\n\" id=\"DejaVuSans-68\"/>\n    </defs>\n    <g transform=\"translate(317.665625 16.318125)scale(0.12 -0.12)\">\n     <use xlink:href=\"#DejaVuSans-70\"/>\n     <use x=\"50.269531\" xlink:href=\"#DejaVuSans-114\"/>\n     <use x=\"89.132812\" xlink:href=\"#DejaVuSans-101\"/>\n     <use x=\"150.65625\" xlink:href=\"#DejaVuSans-113\"/>\n     <use x=\"214.132812\" xlink:href=\"#DejaVuSans-117\"/>\n     <use x=\"277.511719\" xlink:href=\"#DejaVuSans-101\"/>\n     <use x=\"339.035156\" xlink:href=\"#DejaVuSans-110\"/>\n     <use x=\"402.414062\" xlink:href=\"#DejaVuSans-99\"/>\n     <use x=\"457.394531\" xlink:href=\"#DejaVuSans-121\"/>\n     <use x=\"516.574219\" xlink:href=\"#DejaVuSans-32\"/>\n     <use x=\"548.361328\" xlink:href=\"#DejaVuSans-111\"/>\n     <use x=\"609.542969\" xlink:href=\"#DejaVuSans-102\"/>\n     <use x=\"644.748047\" xlink:href=\"#DejaVuSans-32\"/>\n     <use x=\"676.535156\" xlink:href=\"#DejaVuSans-76\"/>\n     <use x=\"732.248047\" xlink:href=\"#DejaVuSans-105\"/>\n     <use x=\"760.03125\" xlink:href=\"#DejaVuSans-110\"/>\n     <use x=\"823.410156\" xlink:href=\"#DejaVuSans-107\"/>\n     <use x=\"881.320312\" xlink:href=\"#DejaVuSans-32\"/>\n     <use x=\"913.107422\" xlink:href=\"#DejaVuSans-84\"/>\n     <use x=\"958.566406\" xlink:href=\"#DejaVuSans-121\"/>\n     <use x=\"1017.746094\" xlink:href=\"#DejaVuSans-112\"/>\n     <use x=\"1081.222656\" xlink:href=\"#DejaVuSans-101\"/>\n     <use x=\"1142.746094\" xlink:href=\"#DejaVuSans-115\"/>\n     <use x=\"1194.845703\" xlink:href=\"#DejaVuSans-32\"/>\n     <use x=\"1226.632812\" xlink:href=\"#DejaVuSans-105\"/>\n     <use x=\"1254.416016\" xlink:href=\"#DejaVuSans-110\"/>\n     <use x=\"1317.794922\" xlink:href=\"#DejaVuSans-32\"/>\n     <use x=\"1349.582031\" xlink:href=\"#DejaVuSans-78\"/>\n     <use x=\"1424.386719\" xlink:href=\"#DejaVuSans-89\"/>\n     <use x=\"1485.470703\" xlink:href=\"#DejaVuSans-84\"/>\n     <use x=\"1546.554688\" xlink:href=\"#DejaVuSans-87\"/>\n     <use x=\"1645.431641\" xlink:href=\"#DejaVuSans-73\"/>\n     <use x=\"1674.923828\" xlink:href=\"#DejaVuSans-84\"/>\n     <use x=\"1736.007812\" xlink:href=\"#DejaVuSans-95\"/>\n     <use x=\"1786.007812\" xlink:href=\"#DejaVuSans-86\"/>\n     <use x=\"1854.416016\" xlink:href=\"#DejaVuSans-49\"/>\n     <use x=\"1918.039062\" xlink:href=\"#DejaVuSans-32\"/>\n     <use x=\"1949.826172\" xlink:href=\"#DejaVuSans-68\"/>\n     <use x=\"2026.828125\" xlink:href=\"#DejaVuSans-97\"/>\n     <use x=\"2088.107422\" xlink:href=\"#DejaVuSans-116\"/>\n     <use x=\"2127.316406\" xlink:href=\"#DejaVuSans-97\"/>\n     <use x=\"2188.595703\" xlink:href=\"#DejaVuSans-115\"/>\n     <use x=\"2240.695312\" xlink:href=\"#DejaVuSans-101\"/>\n     <use x=\"2302.21875\" xlink:href=\"#DejaVuSans-116\"/>\n    </g>\n   </g>\n  </g>\n </g>\n <defs>\n  <clipPath id=\"pd6d1064843\">\n   <rect height=\"543.6\" width=\"837\" x=\"39.65\" y=\"22.318125\"/>\n  </clipPath>\n </defs>\n</svg>\n",
      "image/png": "[encoded data removed]"
     },
     "metadata": {
      "needs_background": "light"
     }
    },
    {
     "output_type": "stream",
     "name": "stdout",
     "text": "-------------------------------------------------------------------------------------------------------------------- \n\n\n"
    }
   ],
   "source": [
    "# Let's use the numbers we obtained in the code chunk above to create another histogram\n",
    "def mplHist(dictionary):\n",
    "    \"\"\"\n",
    "    A short function to create a mpl (matplotlib) histogram\n",
    "    @params a dictionary, dictionary, that is used to label and determine the frequency of the labels\n",
    "    @returns a plotted histogram\n",
    "    \"\"\"\n",
    "    plt.figure(figsize=(15, 10))\n",
    "    plt.bar(dictionary.keys(), dictionary.values())\n",
    "    plt.title('Frequency of Link Types in NYTWIT_V1 Dataset')\n",
    "    plt.show()\n",
    "\n",
    "print(\"Testing mplHist function\")\n",
    "mplHist(dictionary = {\n",
    "        'https count': 1821, \n",
    "        'http count': 440,\n",
    "        'repeated link count': 321,\n",
    "        'other count': 5 \n",
    "        })\n",
    "print('-------------------------------------------------------------------------------------------------------------------- \\n\\n')"
   ]
  },
  {
   "cell_type": "code",
   "execution_count": 94,
   "metadata": {
    "tags": [
     "outputPrepend"
    ]
   },
   "outputs": [
    {
     "output_type": "stream",
     "name": "stdout",
     "text": "Testing uniqueDates function\n2584\n-------------------------------------------------------------------------------------------------------------------- \n\n\n"
    }
   ],
   "source": [
    "\"\"\"\n",
    "3. DateTime column EDA\n",
    "\"\"\"\n",
    "def uniqueDates(col):\n",
    "    \"\"\"\n",
    "    A function that returns the length of the unique dates. The dates represent the dates that new words\n",
    "    were added to the NYTWIT_V1 dataset. \n",
    "    @params a column, col, that is used to create a sub-dataframe that we can then iterate through\n",
    "    @returns length of unique dates list\n",
    "    \"\"\"\n",
    "    return len(set(df[col]))\n",
    "\n",
    "print(\"Testing uniqueDates function\")\n",
    "print(uniqueDates(\"Time\"))\n",
    "print('-------------------------------------------------------------------------------------------------------------------- \\n\\n')\n"
   ]
  },
  {
   "cell_type": "code",
   "execution_count": 104,
   "metadata": {
    "tags": [
     "outputPrepend"
    ]
   },
   "outputs": [
    {
     "output_type": "stream",
     "name": "stdout",
     "text": "Testing determineInAlphabet function \n\n# of Words that don't start with an alphabetical character: \n7\n['=of', '😘to', '🍑to', '🦔and', '🐐the', '😘to', '🍑to']\n\n\n# of Words that start with alphabetical character: \n2580\n\n\n-------------------------------------------------------------------------------------------------------------------- \n\n\n"
    }
   ],
   "source": [
    "\"\"\"\n",
    "4. EDA for the Word Column\n",
    "\"\"\"\n",
    "\n",
    "word_df = df[[\"Word\"]]\n",
    "def determineInAlphabet(data):\n",
    "    \"\"\"\n",
    "    This function will determine if the first character within a word are in the alphabet\n",
    "    or, for example, they are emojis or non-alphabetical characters like ?,=, ., etc.\n",
    "    @params a dataframe, data, that we iterate through\n",
    "    @returns lists, alphabet and non_alphabet, that contains the corresponding words that start with alphabetical and non-alphabetical characters. \n",
    "    \"\"\"\n",
    "    non_alphabet = []\n",
    "    alphabet = []\n",
    "    for w in data.iterrows():\n",
    "        if str(w[-1][0][0]).isalpha():\n",
    "            alphabet.append(w[-1][0])\n",
    "        else:\n",
    "            non_alphabet.append(w[-1][0])\n",
    "    print(\"# of Words that don't start with an alphabetical character: \")\n",
    "    print(len(non_alphabet))\n",
    "    print(non_alphabet)\n",
    "    print(\"\\n\")\n",
    "    print(\"# of Words that start with alphabetical character: \")\n",
    "    print(len(alphabet))\n",
    "    print(\"\\n\")\n",
    "print(\"Testing determineInAlphabet function \\n\")\n",
    "determineInAlphabet(word_df)\n",
    "print('-------------------------------------------------------------------------------------------------------------------- \\n\\n')\n",
    ""
   ]
  },
  {
   "cell_type": "code",
   "execution_count": null,
   "metadata": {},
   "outputs": [],
   "source": []
  }
 ],
 "metadata": {
  "kernelspec": {
   "display_name": "Python 3",
   "language": "python",
   "name": "python3"
  },
  "language_info": {
   "codemirror_mode": {
    "name": "ipython",
    "version": 3
   },
   "file_extension": ".py",
   "mimetype": "text/x-python",
   "name": "python",
   "nbconvert_exporter": "python",
   "pygments_lexer": "ipython3",
   "version": "3.7.6-final"
  }
 },
 "nbformat": 4,
 "nbformat_minor": 4
}